{
  "nbformat": 4,
  "nbformat_minor": 0,
  "metadata": {
    "colab": {
      "name": "feedback.ipynb",
      "provenance": [],
      "toc_visible": true,
      "include_colab_link": true
    },
    "kernelspec": {
      "name": "python3",
      "display_name": "Python 3"
    },
    "language_info": {
      "name": "python"
    }
  },
  "cells": [
    {
      "cell_type": "markdown",
      "metadata": {
        "id": "view-in-github",
        "colab_type": "text"
      },
      "source": [
        "<a href=\"https://colab.research.google.com/github/Abhishek-IITH/Projects/blob/main/AverageFeedback_calc.ipynb\" target=\"_parent\"><img src=\"https://colab.research.google.com/assets/colab-badge.svg\" alt=\"Open In Colab\"/></a>"
      ]
    },
    {
      "cell_type": "markdown",
      "metadata": {
        "id": "ZT7ptzVtHGcb"
      },
      "source": [
        "# Below code is for average feedback calculation in different feedback categories of 'n' number of faculties. "
      ]
    },
    {
      "cell_type": "markdown",
      "metadata": {
        "id": "Yy4Ff9RirBp6"
      },
      "source": [
        "*******************************************************************************     ********************************************************************************"
      ]
    },
    {
      "cell_type": "code",
      "metadata": {
        "id": "6qwHTEEl85mi"
      },
      "source": [
        "import pandas as pd"
      ],
      "execution_count": null,
      "outputs": []
    },
    {
      "cell_type": "code",
      "metadata": {
        "id": "eISoVT6W9c-0"
      },
      "source": [
        "df= pd.read_csv('/content/data3.csv')  "
      ],
      "execution_count": null,
      "outputs": []
    },
    {
      "cell_type": "code",
      "metadata": {
        "id": "_XqUGdSf3M8C"
      },
      "source": [
        "all_faculty= list(df['faculty'].unique()) # 'faculty' is column .(change according to given csv file ) \n",
        "all_faculty.sort()"
      ],
      "execution_count": null,
      "outputs": []
    },
    {
      "cell_type": "code",
      "metadata": {
        "colab": {
          "base_uri": "https://localhost:8080/"
        },
        "id": "h9X6mOB5m3bl",
        "outputId": "68a7fa96-f471-4cda-860c-62756264fca1"
      },
      "source": [
        "all_faculty # unique faculty names "
      ],
      "execution_count": null,
      "outputs": [
        {
          "output_type": "execute_result",
          "data": {
            "text/plain": [
              "['f1', 'f2', 'f3', 'f4', 'f5']"
            ]
          },
          "metadata": {},
          "execution_count": 38
        }
      ]
    },
    {
      "cell_type": "code",
      "metadata": {
        "colab": {
          "base_uri": "https://localhost:8080/"
        },
        "id": "Y1b87f9J4qEY",
        "outputId": "be3014a3-7d6f-4669-eb8f-e4161e8e00f1"
      },
      "source": [
        "ans = []\n",
        "for faculty in all_faculty:\n",
        "  df_f= df.loc[df['faculty']==faculty]\n",
        "  avg_fb =list(df_f.mean())\n",
        "  lst = []\n",
        "  for fb in avg_fb:\n",
        "    lst.append(fb)\n",
        "  print(lst)\n",
        "  ans.append(lst)"
      ],
      "execution_count": null,
      "outputs": [
        {
          "output_type": "stream",
          "name": "stdout",
          "text": [
            "[-59.38461538461539, -57.38461538461539, -57.61538461538461, -56.76923076923077, -57.61538461538461]\n",
            "[-61.0, -63.0, -60.25, -58.5, -58.75]\n",
            "[-58.25, -64.0, -60.25, -62.0, -64.5]\n",
            "[-54.5, -58.25, -60.5, -60.0, -59.0]\n",
            "[-54.42857142857143, -54.785714285714285, -57.5, -57.5, -57.5]\n"
          ]
        }
      ]
    },
    {
      "cell_type": "code",
      "metadata": {
        "id": "_qF7XwaxmmMv"
      },
      "source": [
        "res = {all_faculty[i]: ans[i] for i in range(len(ans))}"
      ],
      "execution_count": null,
      "outputs": []
    },
    {
      "cell_type": "code",
      "metadata": {
        "id": "iElRhBhhVFfo"
      },
      "source": [
        "final = pd.DataFrame(columns = df.columns[1:], index=sorted(all_faculty))"
      ],
      "execution_count": null,
      "outputs": []
    },
    {
      "cell_type": "code",
      "metadata": {
        "colab": {
          "base_uri": "https://localhost:8080/"
        },
        "id": "nc4G-GKVWJCG",
        "outputId": "8399a641-151d-4e3c-dce3-ab5a030abfd1"
      },
      "source": [
        "for key , value in res.items():\n",
        "  print(key)\n",
        "  print(value)\n",
        "  final.loc[key]=  value\n"
      ],
      "execution_count": null,
      "outputs": [
        {
          "output_type": "stream",
          "name": "stdout",
          "text": [
            "f1\n",
            "[-59.38461538461539, -57.38461538461539, -57.61538461538461, -56.76923076923077, -57.61538461538461]\n",
            "f2\n",
            "[-61.0, -63.0, -60.25, -58.5, -58.75]\n",
            "f3\n",
            "[-58.25, -64.0, -60.25, -62.0, -64.5]\n",
            "f4\n",
            "[-54.5, -58.25, -60.5, -60.0, -59.0]\n",
            "f5\n",
            "[-54.42857142857143, -54.785714285714285, -57.5, -57.5, -57.5]\n"
          ]
        }
      ]
    },
    {
      "cell_type": "code",
      "metadata": {
        "id": "fKM3CRv6LSiX"
      },
      "source": [
        " final.to_csv (r'output.csv', index = True, header=True)"
      ],
      "execution_count": null,
      "outputs": []
    },
    {
      "cell_type": "markdown",
      "metadata": {
        "id": "jGFx_mBEA6as"
      },
      "source": [
        "SECTION 2:"
      ]
    },
    {
      "cell_type": "markdown",
      "metadata": {
        "id": "4cAucmBVDFxd"
      },
      "source": [
        "# New section"
      ]
    },
    {
      "cell_type": "code",
      "metadata": {
        "colab": {
          "base_uri": "https://localhost:8080/"
        },
        "id": "rw7G99yfHELy",
        "outputId": "69d660e2-52b2-4390-8666-1e68acbebd92"
      },
      "source": [
        "n = len(df.loc[df['faculty']=='f1',['data1']])\n",
        "total = df.loc[df['faculty']=='f1',['data1']].sum()\n",
        "ans = total/n\n",
        "print(\"Average feedback of respective faculty is: \", ans)"
      ],
      "execution_count": null,
      "outputs": [
        {
          "output_type": "stream",
          "name": "stdout",
          "text": [
            "Average feedback of respective faculty is:  data1   -59.384615\n",
            "dtype: float64\n"
          ]
        }
      ]
    },
    {
      "cell_type": "code",
      "metadata": {
        "id": "9K9Wc7t0i2Ev"
      },
      "source": [
        "f = input(\"Enter faculty name :\")\n",
        "type_of_feedback = input(\"Enter type of feedback\")\n",
        "df= pd.read_csv('/content/data1.csv')\n",
        "df.loc[df['faculty']== 'f',['type_of_feedback']]\n",
        "n = len(df.loc[df['faculty']== f,['type_of_feedback']])\n",
        "total = df.loc[df['faculty']== f,['type_of_feedback']].sum()\n",
        "avg = total/n\n",
        "print(avg) \n",
        "\n",
        "\n",
        "  "
      ],
      "execution_count": null,
      "outputs": []
    },
    {
      "cell_type": "code",
      "metadata": {
        "id": "HJ_erz49tc9N"
      },
      "source": [
        "for key,value in df1.iteritems():\n",
        "  \n"
      ],
      "execution_count": null,
      "outputs": []
    },
    {
      "cell_type": "code",
      "metadata": {
        "colab": {
          "base_uri": "https://localhost:8080/"
        },
        "id": "DGMeG-CQO9W2",
        "outputId": "f118bd67-e360-4ca4-f54c-d9f8d9e92b23"
      },
      "source": [
        "a = [1,2,33,44,56,67]\n",
        "lst = []\n",
        "for i in range(1):\n",
        "  lst.append(str(a[i]))\n",
        "  print(\"&&&&\")\n",
        "# for i in range(len(lst)):\n",
        "#   if lst[i][0] == 3:\n",
        "#     print('x')\n",
        "#   else:\n",
        "#     print('y')"
      ],
      "execution_count": null,
      "outputs": [
        {
          "output_type": "stream",
          "name": "stdout",
          "text": [
            "&&&&\n"
          ]
        }
      ]
    },
    {
      "cell_type": "code",
      "metadata": {
        "colab": {
          "base_uri": "https://localhost:8080/"
        },
        "id": "gMaPsRguhCZv",
        "outputId": "d69327c7-28ad-450d-f27a-f09068dc6380"
      },
      "source": [
        "ls = [1,7,8, 9, 1,2,3,7,8]\n",
        "ls2= sorted(ls[2:])\n",
        "print(ls[:2]+ls2)\n",
        "print(min(ls[3:]))\n",
        "ls.remove(3)\n",
        "print(ls)"
      ],
      "execution_count": null,
      "outputs": [
        {
          "output_type": "stream",
          "name": "stdout",
          "text": [
            "[1, 7, 1, 2, 3, 7, 8, 8, 9]\n",
            "1\n",
            "[1, 7, 8, 9, 1, 2, 7, 8]\n"
          ]
        }
      ]
    },
    {
      "cell_type": "code",
      "metadata": {
        "colab": {
          "base_uri": "https://localhost:8080/"
        },
        "id": "zCx3L7yEPKb6",
        "outputId": "689dd9e6-4e6b-45ce-ae03-ee27dc995176"
      },
      "source": [
        "ls = [1,7,8, 9, 1,2,3,7,8]\n",
        "new_ls = [0 for ele in ls]\n",
        "print(new_ls)"
      ],
      "execution_count": null,
      "outputs": [
        {
          "output_type": "stream",
          "name": "stdout",
          "text": [
            "[0, 0, 0, 0, 0, 0, 0, 0, 0]\n"
          ]
        }
      ]
    }
  ]
}